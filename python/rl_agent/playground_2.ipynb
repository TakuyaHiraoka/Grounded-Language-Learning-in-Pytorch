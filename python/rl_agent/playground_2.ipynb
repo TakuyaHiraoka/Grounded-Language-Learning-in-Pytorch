{
 "cells": [
  {
   "cell_type": "code",
   "execution_count": 11,
   "metadata": {
    "collapsed": true
   },
   "outputs": [],
   "source": [
    "import torch\n",
    "import random\n",
    "import numpy as np\n",
    "from torch.autograd import Variable\n",
    "from collections import namedtuple"
   ]
  },
  {
   "cell_type": "code",
   "execution_count": 35,
   "metadata": {
    "collapsed": true
   },
   "outputs": [],
   "source": [
    "Transition = namedtuple('Transition',\n",
    "                        ('state', 'action_logit', 'next_state', 'reward', 'value'))\n",
    "\n",
    "State = namedtuple('State', ('visual', 'instruction'))\n",
    "\n",
    "class ReplayMemory(object):\n",
    "\n",
    "    def __init__(self, capacity):\n",
    "        self.capacity = capacity\n",
    "        self.memory = []\n",
    "\n",
    "    def push(self, *args):\n",
    "        self.memory.append(Transition(*args))\n",
    "        \n",
    "        while len(self.memory) > capacity:\n",
    "            self.memory.pop(0)\n",
    "\n",
    "    def sample(self, batch_size):\n",
    "        start_index = np.random.randint(0, self.capacity - batch_size)\n",
    "        return self.memory[start_index : start_index + batch_size]\n",
    "\n",
    "    def __len__(self):\n",
    "        return len(self.memory)"
   ]
  },
  {
   "cell_type": "code",
   "execution_count": null,
   "metadata": {
    "collapsed": true
   },
   "outputs": [],
   "source": [
    "for i in range(50):\n",
    "    logit, value = model(state)\n",
    "\n",
    "    # Calculate entropy from action probability distribution\n",
    "    prob = F.softmax(logit)\n",
    "    log_prob = F.log_softmax(logit)\n",
    "    entropy = -(log_prob * prob).sum(1)\n",
    "    entropies.append(entropy)\n",
    "\n",
    "    # Take an action from distribution\n",
    "    action = prob.multinomial().data\n",
    "    log_prob = log_prob.gather(1, Variable(action))\n",
    "\n",
    "    # Perform the action on the environment\n",
    "    next_state, reward, done, _ = env.step(action.numpy())\n",
    "        \n",
    "    values.append(value)\n",
    "    log_probs.append(log_prob)\n",
    "    rewards.append(reward)\n",
    "\n",
    "    # Push to experience replay buffer\n",
    "    # THERE IS NO Terminal state in the buffer, ONLY transition\n",
    "    # THere'll be NO resetting the MEMORY Buffer\n",
    "    memory.push(state, logit, next_state, reward, value)\n",
    "    \n",
    "    if done:\n",
    "        final_value = Variable(torch.zeros(1, 1))\n",
    "    elif episode_length >= 100:\n",
    "        _, final_value = model(next_state)\n",
    "    \n",
    "    done = done or episode_length >= 100:\n",
    "    if done:\n",
    "        values.append(final_value)\n",
    "        episode_length = 0\n",
    "        next_state = env.reset()\n",
    "            \n",
    "    # move to next state\n",
    "    state = next_state\n",
    "    \n",
    "    if done:\n",
    "        break\n",
    "\n",
    "        \n",
    "optimize_model(values, log_probs, rewards)"
   ]
  },
  {
   "cell_type": "code",
   "execution_count": 37,
   "metadata": {
    "collapsed": true
   },
   "outputs": [],
   "source": [
    "def mse_loss(predicted, target):\n",
    "    return torch.sum((predicted - target) ** 2)"
   ]
  },
  {
   "cell_type": "code",
   "execution_count": 38,
   "metadata": {
    "collapsed": true
   },
   "outputs": [],
   "source": [
    "def optimize_model(values, log_probs, rewards):\n",
    "    R = values[-1]\n",
    "    gae = torch.zeros(1, 1)\n",
    "    \n",
    "    # Base A3C Loss\n",
    "    policy_loss, value_loss = 0, 0\n",
    "\n",
    "    # Performing update\n",
    "    for i in reversed(range(len(rewards))):\n",
    "        # Value function loss\n",
    "        R = gamma * R + rewards[i]\n",
    "        value_loss = value_loss + 0.5 * (R - values[i]).pow(2)\n",
    "\n",
    "        # Generalized Advantage Estimataion\n",
    "        delta_t = rewards[i] + gamma * \\\n",
    "                values[i + 1].data - values[i].data\n",
    "        gae = gae * gamma * tau + delta_t\n",
    "\n",
    "        # Computing policy loss\n",
    "        policy_loss = policy_loss - \\\n",
    "            log_probs[i] * Variable(gae) - 0.01 * entropies[i]\n",
    "\n",
    "    # Auxiliary loss\n",
    "    language_prediction_loss = 0 \n",
    "    tae_loss = 0\n",
    "    reward_prediction_loss = 0\n",
    "    value_replay_loss = 0\n",
    "\n",
    "    # Non-skewed sampling from experience buffer\n",
    "    auxiliary_sample = memory.sample(11)\n",
    "    auxiliary_batch = Transition(*zip(*auxiliary_sample))\n",
    "\n",
    "    # Language Prediction Loss\n",
    "    # TODO #\n",
    "    \n",
    "    # TAE Loss\n",
    "    visual_input = auxiliary_batch.state[:10]\n",
    "    visual_input = [t.visual for t in visual_input]\n",
    "\n",
    "    visual_target = auxiliary_batch.state[1:11].visual\n",
    "    visual_target = [t.visual for t in visual_target]\n",
    "    \n",
    "    action_logit = auxiliary_batch.action_logit[:10]\n",
    "        \n",
    "    tae_output = model.tAE(visual_input, action_logit)\n",
    "    tae_loss = mse_loss(tae_output, visual_target)\n",
    "    \n",
    "    # Skewed-Sampling from experience buffer\n",
    "    skewed_sample = memory.skewed_sample(31)\n",
    "    skewed_batch = Transition(*zip(*skewed_sample))\n",
    "    \n",
    "    # Reward Prediction loss\n",
    "    batch_rp_input = []\n",
    "    batch_rp_output = []\n",
    "    \n",
    "    for i in range(10):\n",
    "        rp_input = skewed_batch.state[i : i+3]\n",
    "        rp_output = skewed_batch.rewards[i+3]\n",
    "            \n",
    "        batch_rp_input.append(rp_input)\n",
    "        batch_rp_output.append(rp_output)\n",
    "            \n",
    "    rp_predicted = model.reward_prediction(batch_rp_input)\n",
    "    reward_prediction_loss = mse_loss(rp_predicted, batch_rp_output)\n",
    "    \n",
    "    # Value function replay\n",
    "    index = np.random.randint(0, 10)\n",
    "    R_vr = auxiliary_batch.value[index+1]\n",
    "    R_vr = R_vr * gamma + auxiliary_batch.reward[index]\n",
    "    value_replay_loss = 0.5 * mse_loss(R_vr, auxiliary_batch.value[index])\n",
    "            \n",
    "    # Back-propagation\n",
    "    optimizer.zero_grad()\n",
    "    (policy_loss + 0.5 * value_loss + reward_prediction_loss + tae_loss + \n",
    "                         language_prediction_loss + value_replay_loss).backward()\n",
    "    torch.nn.utils.clip_grad_norm(model.parameters(), 40)\n",
    "    \n",
    "    # Apply updates\n",
    "    optimizer.step()"
   ]
  },
  {
   "cell_type": "code",
   "execution_count": null,
   "metadata": {
    "collapsed": true
   },
   "outputs": [],
   "source": []
  }
 ],
 "metadata": {
  "kernelspec": {
   "display_name": "Python 3",
   "language": "python",
   "name": "python3"
  },
  "language_info": {
   "codemirror_mode": {
    "name": "ipython",
    "version": 3
   },
   "file_extension": ".py",
   "mimetype": "text/x-python",
   "name": "python",
   "nbconvert_exporter": "python",
   "pygments_lexer": "ipython3",
   "version": "3.6.1"
  }
 },
 "nbformat": 4,
 "nbformat_minor": 2
}
